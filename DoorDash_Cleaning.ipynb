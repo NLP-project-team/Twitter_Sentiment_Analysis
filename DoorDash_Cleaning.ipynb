{
 "cells": [
  {
   "cell_type": "code",
   "execution_count": 1,
   "metadata": {},
   "outputs": [],
   "source": [
    "import pandas as pd"
   ]
  },
  {
   "cell_type": "code",
   "execution_count": 2,
   "metadata": {},
   "outputs": [],
   "source": [
    "df = pd.read_json('DoorDash_data.json', lines=True)"
   ]
  },
  {
   "cell_type": "code",
   "execution_count": 4,
   "metadata": {},
   "outputs": [
    {
     "data": {
      "text/plain": [
       "(621603, 36)"
      ]
     },
     "execution_count": 4,
     "metadata": {},
     "output_type": "execute_result"
    }
   ],
   "source": [
    "df.shape"
   ]
  },
  {
   "cell_type": "code",
   "execution_count": 5,
   "metadata": {},
   "outputs": [
    {
     "data": {
      "text/plain": [
       "array(['en', 'und', 'et', 'es', 'tl', 'it', 'nl', 'ht', 'ja', 'ca', 'in',\n",
       "       'sv', 'fr', 'vi', 'cs', 'da', 'pt', 'tr', 'de', 'no', 'cy', 'lt',\n",
       "       'hi', 'fi', 'hu', 'ar', 'ro', 'fa', 'ru', 'is', 'lv', 'zh', 'pl',\n",
       "       'sl', 'uk', 'hy', 'eu', 'ta', 'ur', 'bg', 'iw', 'ko', 'mr', 'ne'],\n",
       "      dtype=object)"
      ]
     },
     "execution_count": 5,
     "metadata": {},
     "output_type": "execute_result"
    }
   ],
   "source": [
    "df['language'].unique()"
   ]
  },
  {
   "cell_type": "code",
   "execution_count": 6,
   "metadata": {},
   "outputs": [],
   "source": [
    "df_en = df.loc[df['language']=='en']"
   ]
  },
  {
   "cell_type": "code",
   "execution_count": 7,
   "metadata": {
    "scrolled": true
   },
   "outputs": [
    {
     "data": {
      "text/plain": [
       "(564211, 36)"
      ]
     },
     "execution_count": 7,
     "metadata": {},
     "output_type": "execute_result"
    }
   ],
   "source": [
    "df_en.shape"
   ]
  },
  {
   "cell_type": "code",
   "execution_count": 9,
   "metadata": {
    "scrolled": true
   },
   "outputs": [
    {
     "data": {
      "text/html": [
       "<div>\n",
       "<style scoped>\n",
       "    .dataframe tbody tr th:only-of-type {\n",
       "        vertical-align: middle;\n",
       "    }\n",
       "\n",
       "    .dataframe tbody tr th {\n",
       "        vertical-align: top;\n",
       "    }\n",
       "\n",
       "    .dataframe thead th {\n",
       "        text-align: right;\n",
       "    }\n",
       "</style>\n",
       "<table border=\"1\" class=\"dataframe\">\n",
       "  <thead>\n",
       "    <tr style=\"text-align: right;\">\n",
       "      <th></th>\n",
       "      <th>id</th>\n",
       "      <th>conversation_id</th>\n",
       "      <th>created_at</th>\n",
       "      <th>date</th>\n",
       "      <th>time</th>\n",
       "      <th>timezone</th>\n",
       "      <th>user_id</th>\n",
       "      <th>username</th>\n",
       "      <th>name</th>\n",
       "      <th>place</th>\n",
       "      <th>...</th>\n",
       "      <th>geo</th>\n",
       "      <th>source</th>\n",
       "      <th>user_rt_id</th>\n",
       "      <th>user_rt</th>\n",
       "      <th>retweet_id</th>\n",
       "      <th>reply_to</th>\n",
       "      <th>retweet_date</th>\n",
       "      <th>translate</th>\n",
       "      <th>trans_src</th>\n",
       "      <th>trans_dest</th>\n",
       "    </tr>\n",
       "  </thead>\n",
       "  <tbody>\n",
       "    <tr>\n",
       "      <th>0</th>\n",
       "      <td>1351276996492455949</td>\n",
       "      <td>1351276996492455936</td>\n",
       "      <td>2021-01-18 16:15:16 EST</td>\n",
       "      <td>2021-01-18</td>\n",
       "      <td>16:15:16</td>\n",
       "      <td>-500</td>\n",
       "      <td>997911301316898817</td>\n",
       "      <td>lorihymowitz</td>\n",
       "      <td>Lori Hymowitz</td>\n",
       "      <td></td>\n",
       "      <td>...</td>\n",
       "      <td></td>\n",
       "      <td></td>\n",
       "      <td></td>\n",
       "      <td></td>\n",
       "      <td></td>\n",
       "      <td>[]</td>\n",
       "      <td></td>\n",
       "      <td></td>\n",
       "      <td></td>\n",
       "      <td></td>\n",
       "    </tr>\n",
       "  </tbody>\n",
       "</table>\n",
       "<p>1 rows × 36 columns</p>\n",
       "</div>"
      ],
      "text/plain": [
       "                    id      conversation_id               created_at  \\\n",
       "0  1351276996492455949  1351276996492455936  2021-01-18 16:15:16 EST   \n",
       "\n",
       "        date      time  timezone             user_id      username  \\\n",
       "0 2021-01-18  16:15:16      -500  997911301316898817  lorihymowitz   \n",
       "\n",
       "            name place  ... geo source user_rt_id user_rt retweet_id  \\\n",
       "0  Lori Hymowitz        ...                                            \n",
       "\n",
       "   reply_to  retweet_date  translate trans_src trans_dest  \n",
       "0        []                                                \n",
       "\n",
       "[1 rows x 36 columns]"
      ]
     },
     "execution_count": 9,
     "metadata": {},
     "output_type": "execute_result"
    }
   ],
   "source": [
    "df_en.head(1)"
   ]
  },
  {
   "cell_type": "code",
   "execution_count": 10,
   "metadata": {},
   "outputs": [
    {
     "data": {
      "text/html": [
       "<div>\n",
       "<style scoped>\n",
       "    .dataframe tbody tr th:only-of-type {\n",
       "        vertical-align: middle;\n",
       "    }\n",
       "\n",
       "    .dataframe tbody tr th {\n",
       "        vertical-align: top;\n",
       "    }\n",
       "\n",
       "    .dataframe thead th {\n",
       "        text-align: right;\n",
       "    }\n",
       "</style>\n",
       "<table border=\"1\" class=\"dataframe\">\n",
       "  <thead>\n",
       "    <tr style=\"text-align: right;\">\n",
       "      <th></th>\n",
       "      <th>id</th>\n",
       "      <th>conversation_id</th>\n",
       "      <th>created_at</th>\n",
       "      <th>date</th>\n",
       "      <th>time</th>\n",
       "      <th>timezone</th>\n",
       "      <th>user_id</th>\n",
       "      <th>username</th>\n",
       "      <th>name</th>\n",
       "      <th>place</th>\n",
       "      <th>...</th>\n",
       "      <th>geo</th>\n",
       "      <th>source</th>\n",
       "      <th>user_rt_id</th>\n",
       "      <th>user_rt</th>\n",
       "      <th>retweet_id</th>\n",
       "      <th>reply_to</th>\n",
       "      <th>retweet_date</th>\n",
       "      <th>translate</th>\n",
       "      <th>trans_src</th>\n",
       "      <th>trans_dest</th>\n",
       "    </tr>\n",
       "  </thead>\n",
       "  <tbody>\n",
       "    <tr>\n",
       "      <th>621602</th>\n",
       "      <td>347989836453511168</td>\n",
       "      <td>347989836453511168</td>\n",
       "      <td>2013-06-21 04:10:17 EDT</td>\n",
       "      <td>2013-06-21</td>\n",
       "      <td>04:10:17</td>\n",
       "      <td>-500</td>\n",
       "      <td>1531669496</td>\n",
       "      <td>doordash</td>\n",
       "      <td>DoorDash</td>\n",
       "      <td></td>\n",
       "      <td>...</td>\n",
       "      <td></td>\n",
       "      <td></td>\n",
       "      <td></td>\n",
       "      <td></td>\n",
       "      <td></td>\n",
       "      <td>[]</td>\n",
       "      <td></td>\n",
       "      <td></td>\n",
       "      <td></td>\n",
       "      <td></td>\n",
       "    </tr>\n",
       "  </tbody>\n",
       "</table>\n",
       "<p>1 rows × 36 columns</p>\n",
       "</div>"
      ],
      "text/plain": [
       "                        id     conversation_id               created_at  \\\n",
       "621602  347989836453511168  347989836453511168  2013-06-21 04:10:17 EDT   \n",
       "\n",
       "             date      time  timezone     user_id  username      name place  \\\n",
       "621602 2013-06-21  04:10:17      -500  1531669496  doordash  DoorDash         \n",
       "\n",
       "        ... geo source user_rt_id user_rt retweet_id  reply_to  retweet_date  \\\n",
       "621602  ...                                                 []                 \n",
       "\n",
       "        translate trans_src trans_dest  \n",
       "621602                                  \n",
       "\n",
       "[1 rows x 36 columns]"
      ]
     },
     "execution_count": 10,
     "metadata": {},
     "output_type": "execute_result"
    }
   ],
   "source": [
    "df_en.tail(1)"
   ]
  },
  {
   "cell_type": "code",
   "execution_count": 11,
   "metadata": {},
   "outputs": [],
   "source": [
    "df_en.to_csv('DoorDash_from_2013-06-21_to_2021-01-18.csv',index=False)"
   ]
  },
  {
   "cell_type": "code",
   "execution_count": 12,
   "metadata": {},
   "outputs": [],
   "source": [
    "df = pd.read_csv('DoorDash_from_2013-06-21_to_2021-01-18.csv')"
   ]
  },
  {
   "cell_type": "code",
   "execution_count": 13,
   "metadata": {},
   "outputs": [
    {
     "data": {
      "text/plain": [
       "(564211, 36)"
      ]
     },
     "execution_count": 13,
     "metadata": {},
     "output_type": "execute_result"
    }
   ],
   "source": [
    "df.shape"
   ]
  },
  {
   "cell_type": "code",
   "execution_count": 15,
   "metadata": {
    "scrolled": true
   },
   "outputs": [
    {
     "name": "stdout",
     "output_type": "stream",
     "text": [
      "<class 'pandas.core.frame.DataFrame'>\n",
      "RangeIndex: 564211 entries, 0 to 564210\n",
      "Data columns (total 36 columns):\n",
      " #   Column           Non-Null Count   Dtype  \n",
      "---  ------           --------------   -----  \n",
      " 0   id               564211 non-null  int64  \n",
      " 1   conversation_id  564211 non-null  int64  \n",
      " 2   created_at       564211 non-null  object \n",
      " 3   date             564211 non-null  object \n",
      " 4   time             564211 non-null  object \n",
      " 5   timezone         564211 non-null  int64  \n",
      " 6   user_id          564211 non-null  int64  \n",
      " 7   username         564210 non-null  object \n",
      " 8   name             564164 non-null  object \n",
      " 9   place            3111 non-null    object \n",
      " 10  tweet            564211 non-null  object \n",
      " 11  language         564211 non-null  object \n",
      " 12  mentions         564211 non-null  object \n",
      " 13  urls             564211 non-null  object \n",
      " 14  photos           564211 non-null  object \n",
      " 15  replies_count    564211 non-null  int64  \n",
      " 16  retweets_count   564211 non-null  int64  \n",
      " 17  likes_count      564211 non-null  int64  \n",
      " 18  hashtags         564211 non-null  object \n",
      " 19  cashtags         564211 non-null  object \n",
      " 20  link             564211 non-null  object \n",
      " 21  retweet          564211 non-null  bool   \n",
      " 22  quote_url        11990 non-null   object \n",
      " 23  video            564211 non-null  int64  \n",
      " 24  thumbnail        75318 non-null   object \n",
      " 25  near             0 non-null       float64\n",
      " 26  geo              0 non-null       float64\n",
      " 27  source           0 non-null       float64\n",
      " 28  user_rt_id       0 non-null       float64\n",
      " 29  user_rt          0 non-null       float64\n",
      " 30  retweet_id       0 non-null       float64\n",
      " 31  reply_to         564211 non-null  object \n",
      " 32  retweet_date     0 non-null       float64\n",
      " 33  translate        0 non-null       float64\n",
      " 34  trans_src        0 non-null       float64\n",
      " 35  trans_dest       0 non-null       float64\n",
      "dtypes: bool(1), float64(10), int64(8), object(17)\n",
      "memory usage: 151.2+ MB\n"
     ]
    }
   ],
   "source": [
    "df.info()"
   ]
  },
  {
   "cell_type": "code",
   "execution_count": 17,
   "metadata": {},
   "outputs": [],
   "source": [
    "pd.options.display.max_columns=40 #to see all columns"
   ]
  },
  {
   "cell_type": "code",
   "execution_count": 18,
   "metadata": {},
   "outputs": [
    {
     "data": {
      "text/html": [
       "<div>\n",
       "<style scoped>\n",
       "    .dataframe tbody tr th:only-of-type {\n",
       "        vertical-align: middle;\n",
       "    }\n",
       "\n",
       "    .dataframe tbody tr th {\n",
       "        vertical-align: top;\n",
       "    }\n",
       "\n",
       "    .dataframe thead th {\n",
       "        text-align: right;\n",
       "    }\n",
       "</style>\n",
       "<table border=\"1\" class=\"dataframe\">\n",
       "  <thead>\n",
       "    <tr style=\"text-align: right;\">\n",
       "      <th></th>\n",
       "      <th>id</th>\n",
       "      <th>conversation_id</th>\n",
       "      <th>created_at</th>\n",
       "      <th>date</th>\n",
       "      <th>time</th>\n",
       "      <th>timezone</th>\n",
       "      <th>user_id</th>\n",
       "      <th>username</th>\n",
       "      <th>name</th>\n",
       "      <th>place</th>\n",
       "      <th>tweet</th>\n",
       "      <th>language</th>\n",
       "      <th>mentions</th>\n",
       "      <th>urls</th>\n",
       "      <th>photos</th>\n",
       "      <th>replies_count</th>\n",
       "      <th>retweets_count</th>\n",
       "      <th>likes_count</th>\n",
       "      <th>hashtags</th>\n",
       "      <th>cashtags</th>\n",
       "      <th>link</th>\n",
       "      <th>retweet</th>\n",
       "      <th>quote_url</th>\n",
       "      <th>video</th>\n",
       "      <th>thumbnail</th>\n",
       "      <th>near</th>\n",
       "      <th>geo</th>\n",
       "      <th>source</th>\n",
       "      <th>user_rt_id</th>\n",
       "      <th>user_rt</th>\n",
       "      <th>retweet_id</th>\n",
       "      <th>reply_to</th>\n",
       "      <th>retweet_date</th>\n",
       "      <th>translate</th>\n",
       "      <th>trans_src</th>\n",
       "      <th>trans_dest</th>\n",
       "    </tr>\n",
       "  </thead>\n",
       "  <tbody>\n",
       "    <tr>\n",
       "      <th>0</th>\n",
       "      <td>1351276996492455949</td>\n",
       "      <td>1351276996492455936</td>\n",
       "      <td>2021-01-18 16:15:16 EST</td>\n",
       "      <td>2021-01-18</td>\n",
       "      <td>16:15:16</td>\n",
       "      <td>-500</td>\n",
       "      <td>997911301316898817</td>\n",
       "      <td>lorihymowitz</td>\n",
       "      <td>Lori Hymowitz</td>\n",
       "      <td>NaN</td>\n",
       "      <td>@DoorDash I changed my phone number in my acco...</td>\n",
       "      <td>en</td>\n",
       "      <td>[]</td>\n",
       "      <td>[]</td>\n",
       "      <td>[]</td>\n",
       "      <td>0</td>\n",
       "      <td>0</td>\n",
       "      <td>0</td>\n",
       "      <td>[]</td>\n",
       "      <td>[]</td>\n",
       "      <td>https://twitter.com/LoriHymowitz/status/135127...</td>\n",
       "      <td>False</td>\n",
       "      <td>NaN</td>\n",
       "      <td>0</td>\n",
       "      <td>NaN</td>\n",
       "      <td>NaN</td>\n",
       "      <td>NaN</td>\n",
       "      <td>NaN</td>\n",
       "      <td>NaN</td>\n",
       "      <td>NaN</td>\n",
       "      <td>NaN</td>\n",
       "      <td>[]</td>\n",
       "      <td>NaN</td>\n",
       "      <td>NaN</td>\n",
       "      <td>NaN</td>\n",
       "      <td>NaN</td>\n",
       "    </tr>\n",
       "    <tr>\n",
       "      <th>1</th>\n",
       "      <td>1351276775494455296</td>\n",
       "      <td>1351250700034953216</td>\n",
       "      <td>2021-01-18 16:14:23 EST</td>\n",
       "      <td>2021-01-18</td>\n",
       "      <td>16:14:23</td>\n",
       "      <td>-500</td>\n",
       "      <td>16562100</td>\n",
       "      <td>jasonpeacock</td>\n",
       "      <td>Jason Peacock</td>\n",
       "      <td>NaN</td>\n",
       "      <td>@seakoz @DoorDash @Instacart @Lowes Worse is a...</td>\n",
       "      <td>en</td>\n",
       "      <td>[]</td>\n",
       "      <td>[]</td>\n",
       "      <td>[]</td>\n",
       "      <td>0</td>\n",
       "      <td>0</td>\n",
       "      <td>1</td>\n",
       "      <td>[]</td>\n",
       "      <td>[]</td>\n",
       "      <td>https://twitter.com/jasonpeacock/status/135127...</td>\n",
       "      <td>False</td>\n",
       "      <td>NaN</td>\n",
       "      <td>0</td>\n",
       "      <td>NaN</td>\n",
       "      <td>NaN</td>\n",
       "      <td>NaN</td>\n",
       "      <td>NaN</td>\n",
       "      <td>NaN</td>\n",
       "      <td>NaN</td>\n",
       "      <td>NaN</td>\n",
       "      <td>[{'screen_name': 'seakoz', 'name': 'Jonathan K...</td>\n",
       "      <td>NaN</td>\n",
       "      <td>NaN</td>\n",
       "      <td>NaN</td>\n",
       "      <td>NaN</td>\n",
       "    </tr>\n",
       "    <tr>\n",
       "      <th>2</th>\n",
       "      <td>1351276591960174596</td>\n",
       "      <td>1351172175701696512</td>\n",
       "      <td>2021-01-18 16:13:39 EST</td>\n",
       "      <td>2021-01-18</td>\n",
       "      <td>16:13:39</td>\n",
       "      <td>-500</td>\n",
       "      <td>57143856</td>\n",
       "      <td>greg_nieto</td>\n",
       "      <td>Gregory Nieto</td>\n",
       "      <td>NaN</td>\n",
       "      <td>@debtakahara @chrisparente @girlscouts Does @D...</td>\n",
       "      <td>en</td>\n",
       "      <td>[{'screen_name': 'doordash', 'name': 'doordash...</td>\n",
       "      <td>[]</td>\n",
       "      <td>[]</td>\n",
       "      <td>0</td>\n",
       "      <td>0</td>\n",
       "      <td>0</td>\n",
       "      <td>[]</td>\n",
       "      <td>[]</td>\n",
       "      <td>https://twitter.com/greg_nieto/status/13512765...</td>\n",
       "      <td>False</td>\n",
       "      <td>NaN</td>\n",
       "      <td>0</td>\n",
       "      <td>NaN</td>\n",
       "      <td>NaN</td>\n",
       "      <td>NaN</td>\n",
       "      <td>NaN</td>\n",
       "      <td>NaN</td>\n",
       "      <td>NaN</td>\n",
       "      <td>NaN</td>\n",
       "      <td>[{'screen_name': 'debtakahara', 'name': 'Debor...</td>\n",
       "      <td>NaN</td>\n",
       "      <td>NaN</td>\n",
       "      <td>NaN</td>\n",
       "      <td>NaN</td>\n",
       "    </tr>\n",
       "    <tr>\n",
       "      <th>3</th>\n",
       "      <td>1351275000733569027</td>\n",
       "      <td>1351275000733569024</td>\n",
       "      <td>2021-01-18 16:07:20 EST</td>\n",
       "      <td>2021-01-18</td>\n",
       "      <td>16:07:20</td>\n",
       "      <td>-500</td>\n",
       "      <td>1298089194707771393</td>\n",
       "      <td>penancethots</td>\n",
       "      <td>Niggalas Cage</td>\n",
       "      <td>NaN</td>\n",
       "      <td>Crazy how I order @DoorDash twice a day for li...</td>\n",
       "      <td>en</td>\n",
       "      <td>[{'screen_name': 'doordash', 'name': 'doordash...</td>\n",
       "      <td>[]</td>\n",
       "      <td>[]</td>\n",
       "      <td>0</td>\n",
       "      <td>0</td>\n",
       "      <td>0</td>\n",
       "      <td>[]</td>\n",
       "      <td>[]</td>\n",
       "      <td>https://twitter.com/PenanceThots/status/135127...</td>\n",
       "      <td>False</td>\n",
       "      <td>NaN</td>\n",
       "      <td>0</td>\n",
       "      <td>NaN</td>\n",
       "      <td>NaN</td>\n",
       "      <td>NaN</td>\n",
       "      <td>NaN</td>\n",
       "      <td>NaN</td>\n",
       "      <td>NaN</td>\n",
       "      <td>NaN</td>\n",
       "      <td>[]</td>\n",
       "      <td>NaN</td>\n",
       "      <td>NaN</td>\n",
       "      <td>NaN</td>\n",
       "      <td>NaN</td>\n",
       "    </tr>\n",
       "    <tr>\n",
       "      <th>4</th>\n",
       "      <td>1351273222453358593</td>\n",
       "      <td>1351272823034056704</td>\n",
       "      <td>2021-01-18 16:00:16 EST</td>\n",
       "      <td>2021-01-18</td>\n",
       "      <td>16:00:16</td>\n",
       "      <td>-500</td>\n",
       "      <td>2806646553</td>\n",
       "      <td>blacksheep_127</td>\n",
       "      <td>Danielle (she/her)</td>\n",
       "      <td>NaN</td>\n",
       "      <td>That also requires me to leave my apartment......</td>\n",
       "      <td>en</td>\n",
       "      <td>[{'screen_name': 'doordash', 'name': 'doordash...</td>\n",
       "      <td>[]</td>\n",
       "      <td>[]</td>\n",
       "      <td>0</td>\n",
       "      <td>0</td>\n",
       "      <td>0</td>\n",
       "      <td>[]</td>\n",
       "      <td>[]</td>\n",
       "      <td>https://twitter.com/blacksheep_127/status/1351...</td>\n",
       "      <td>False</td>\n",
       "      <td>NaN</td>\n",
       "      <td>0</td>\n",
       "      <td>NaN</td>\n",
       "      <td>NaN</td>\n",
       "      <td>NaN</td>\n",
       "      <td>NaN</td>\n",
       "      <td>NaN</td>\n",
       "      <td>NaN</td>\n",
       "      <td>NaN</td>\n",
       "      <td>[]</td>\n",
       "      <td>NaN</td>\n",
       "      <td>NaN</td>\n",
       "      <td>NaN</td>\n",
       "      <td>NaN</td>\n",
       "    </tr>\n",
       "  </tbody>\n",
       "</table>\n",
       "</div>"
      ],
      "text/plain": [
       "                    id      conversation_id               created_at  \\\n",
       "0  1351276996492455949  1351276996492455936  2021-01-18 16:15:16 EST   \n",
       "1  1351276775494455296  1351250700034953216  2021-01-18 16:14:23 EST   \n",
       "2  1351276591960174596  1351172175701696512  2021-01-18 16:13:39 EST   \n",
       "3  1351275000733569027  1351275000733569024  2021-01-18 16:07:20 EST   \n",
       "4  1351273222453358593  1351272823034056704  2021-01-18 16:00:16 EST   \n",
       "\n",
       "         date      time  timezone              user_id        username  \\\n",
       "0  2021-01-18  16:15:16      -500   997911301316898817    lorihymowitz   \n",
       "1  2021-01-18  16:14:23      -500             16562100    jasonpeacock   \n",
       "2  2021-01-18  16:13:39      -500             57143856      greg_nieto   \n",
       "3  2021-01-18  16:07:20      -500  1298089194707771393    penancethots   \n",
       "4  2021-01-18  16:00:16      -500           2806646553  blacksheep_127   \n",
       "\n",
       "                 name place  \\\n",
       "0       Lori Hymowitz   NaN   \n",
       "1       Jason Peacock   NaN   \n",
       "2       Gregory Nieto   NaN   \n",
       "3       Niggalas Cage   NaN   \n",
       "4  Danielle (she/her)   NaN   \n",
       "\n",
       "                                               tweet language  \\\n",
       "0  @DoorDash I changed my phone number in my acco...       en   \n",
       "1  @seakoz @DoorDash @Instacart @Lowes Worse is a...       en   \n",
       "2  @debtakahara @chrisparente @girlscouts Does @D...       en   \n",
       "3  Crazy how I order @DoorDash twice a day for li...       en   \n",
       "4  That also requires me to leave my apartment......       en   \n",
       "\n",
       "                                            mentions urls photos  \\\n",
       "0                                                 []   []     []   \n",
       "1                                                 []   []     []   \n",
       "2  [{'screen_name': 'doordash', 'name': 'doordash...   []     []   \n",
       "3  [{'screen_name': 'doordash', 'name': 'doordash...   []     []   \n",
       "4  [{'screen_name': 'doordash', 'name': 'doordash...   []     []   \n",
       "\n",
       "   replies_count  retweets_count  likes_count hashtags cashtags  \\\n",
       "0              0               0            0       []       []   \n",
       "1              0               0            1       []       []   \n",
       "2              0               0            0       []       []   \n",
       "3              0               0            0       []       []   \n",
       "4              0               0            0       []       []   \n",
       "\n",
       "                                                link  retweet quote_url  \\\n",
       "0  https://twitter.com/LoriHymowitz/status/135127...    False       NaN   \n",
       "1  https://twitter.com/jasonpeacock/status/135127...    False       NaN   \n",
       "2  https://twitter.com/greg_nieto/status/13512765...    False       NaN   \n",
       "3  https://twitter.com/PenanceThots/status/135127...    False       NaN   \n",
       "4  https://twitter.com/blacksheep_127/status/1351...    False       NaN   \n",
       "\n",
       "   video thumbnail  near  geo  source  user_rt_id  user_rt  retweet_id  \\\n",
       "0      0       NaN   NaN  NaN     NaN         NaN      NaN         NaN   \n",
       "1      0       NaN   NaN  NaN     NaN         NaN      NaN         NaN   \n",
       "2      0       NaN   NaN  NaN     NaN         NaN      NaN         NaN   \n",
       "3      0       NaN   NaN  NaN     NaN         NaN      NaN         NaN   \n",
       "4      0       NaN   NaN  NaN     NaN         NaN      NaN         NaN   \n",
       "\n",
       "                                            reply_to  retweet_date  translate  \\\n",
       "0                                                 []           NaN        NaN   \n",
       "1  [{'screen_name': 'seakoz', 'name': 'Jonathan K...           NaN        NaN   \n",
       "2  [{'screen_name': 'debtakahara', 'name': 'Debor...           NaN        NaN   \n",
       "3                                                 []           NaN        NaN   \n",
       "4                                                 []           NaN        NaN   \n",
       "\n",
       "   trans_src  trans_dest  \n",
       "0        NaN         NaN  \n",
       "1        NaN         NaN  \n",
       "2        NaN         NaN  \n",
       "3        NaN         NaN  \n",
       "4        NaN         NaN  "
      ]
     },
     "execution_count": 18,
     "metadata": {},
     "output_type": "execute_result"
    }
   ],
   "source": [
    "df.head()"
   ]
  },
  {
   "cell_type": "code",
   "execution_count": 19,
   "metadata": {},
   "outputs": [],
   "source": [
    "df['date_dt']=pd.to_datetime(df['date'])"
   ]
  },
  {
   "cell_type": "code",
   "execution_count": 20,
   "metadata": {},
   "outputs": [],
   "source": [
    "df['day_of_week'] = df['date_dt'].dt.day_name()"
   ]
  },
  {
   "cell_type": "code",
   "execution_count": 21,
   "metadata": {},
   "outputs": [],
   "source": [
    "df['year'] = df['date_dt'].dt.year"
   ]
  },
  {
   "cell_type": "code",
   "execution_count": 35,
   "metadata": {},
   "outputs": [],
   "source": [
    "import matplotlib.pyplot as plt\n",
    "%matplotlib inline"
   ]
  },
  {
   "cell_type": "code",
   "execution_count": 37,
   "metadata": {
    "scrolled": true
   },
   "outputs": [
    {
     "data": {
      "text/plain": [
       "2020    317394\n",
       "2019    137865\n",
       "2018     44038\n",
       "2021     24002\n",
       "2017     19020\n",
       "2016     11726\n",
       "2015      8092\n",
       "2014      1753\n",
       "2013       321\n",
       "Name: year, dtype: int64"
      ]
     },
     "execution_count": 37,
     "metadata": {},
     "output_type": "execute_result"
    }
   ],
   "source": [
    "df['year'].value_counts()"
   ]
  },
  {
   "cell_type": "code",
   "execution_count": 39,
   "metadata": {},
   "outputs": [],
   "source": [
    "import seaborn as sns"
   ]
  },
  {
   "cell_type": "code",
   "execution_count": 40,
   "metadata": {},
   "outputs": [
    {
     "data": {
      "image/png": "[encoded data removed]",
      "text/plain": [
       "<Figure size 720x576 with 1 Axes>"
      ]
     },
     "metadata": {
      "needs_background": "light"
     },
     "output_type": "display_data"
    }
   ],
   "source": [
    "plt.figure(figsize=(10,8))\n",
    "ax = sns.countplot(x='year', data=df)"
   ]
  },
  {
   "cell_type": "code",
   "execution_count": 41,
   "metadata": {},
   "outputs": [
    {
     "data": {
      "image/png": "[encoded data removed]",
      "text/plain": [
       "<Figure size 720x576 with 1 Axes>"
      ]
     },
     "metadata": {
      "needs_background": "light"
     },
     "output_type": "display_data"
    }
   ],
   "source": [
    "plt.figure(figsize=(10,8))\n",
    "ax = sns.countplot(x='day_of_week', data=df)"
   ]
  },
  {
   "cell_type": "code",
   "execution_count": 42,
   "metadata": {
    "scrolled": true
   },
   "outputs": [
    {
     "data": {
      "text/plain": [
       "2683"
      ]
     },
     "execution_count": 42,
     "metadata": {},
     "output_type": "execute_result"
    }
   ],
   "source": [
    "df['date'].nunique()"
   ]
  },
  {
   "cell_type": "code",
   "execution_count": 44,
   "metadata": {},
   "outputs": [],
   "source": [
    "df['time_dt']=pd.to_datetime(df['time'])"
   ]
  },
  {
   "cell_type": "code",
   "execution_count": 45,
   "metadata": {},
   "outputs": [],
   "source": [
    "df['hour'] = df['time_dt'].dt.hour"
   ]
  },
  {
   "cell_type": "code",
   "execution_count": 46,
   "metadata": {},
   "outputs": [
    {
     "data": {
      "text/plain": [
       "24"
      ]
     },
     "execution_count": 46,
     "metadata": {},
     "output_type": "execute_result"
    }
   ],
   "source": [
    "df['hour'].nunique()"
   ]
  },
  {
   "cell_type": "code",
   "execution_count": 47,
   "metadata": {},
   "outputs": [
    {
     "data": {
      "image/png": "[encoded data removed]",
      "text/plain": [
       "<Figure size 720x576 with 1 Axes>"
      ]
     },
     "metadata": {
      "needs_background": "light"
     },
     "output_type": "display_data"
    }
   ],
   "source": [
    "plt.figure(figsize=(10,8))\n",
    "ax = sns.countplot(x='hour', data=df)"
   ]
  },
  {
   "cell_type": "code",
   "execution_count": 48,
   "metadata": {},
   "outputs": [
    {
     "data": {
      "image/png": "[encoded data removed]",
      "text/plain": [
       "<Figure size 2160x720 with 1 Axes>"
      ]
     },
     "metadata": {
      "needs_background": "light"
     },
     "output_type": "display_data"
    }
   ],
   "source": [
    "plt.figure(figsize=(30,10))\n",
    "ax = sns.countplot(x='hour', hue=\"day_of_week\", data=df)"
   ]
  },
  {
   "cell_type": "code",
   "execution_count": 49,
   "metadata": {},
   "outputs": [
    {
     "data": {
      "image/png": "[encoded data removed]",
      "text/plain": [
       "<Figure size 2160x720 with 1 Axes>"
      ]
     },
     "metadata": {
      "needs_background": "light"
     },
     "output_type": "display_data"
    }
   ],
   "source": [
    "plt.figure(figsize=(30,10))\n",
    "ax = sns.countplot(x='day_of_week', hue=\"hour\", data=df)"
   ]
  },
  {
   "cell_type": "code",
   "execution_count": 50,
   "metadata": {},
   "outputs": [
    {
     "data": {
      "text/plain": [
       "doordash           14143\n",
       "bet                 9240\n",
       "jcraiderman         4036\n",
       "sahil_feda          1947\n",
       "doordash_help       1685\n",
       "afreaknamedali      1294\n",
       "driversamerican      895\n",
       "smallcakesndh        722\n",
       "elmanantiallv1       655\n",
       "schraderwest         473\n",
       "Name: username, dtype: int64"
      ]
     },
     "execution_count": 50,
     "metadata": {},
     "output_type": "execute_result"
    }
   ],
   "source": [
    "df['username'].value_counts().head(10)"
   ]
  },
  {
   "cell_type": "code",
   "execution_count": 51,
   "metadata": {},
   "outputs": [
    {
     "data": {
      "text/plain": [
       "DoorDash                            14143\n",
       "BET                                  9241\n",
       "J                                    4280\n",
       "Sahil Feda                           2037\n",
       "DoorDash Help                        1685\n",
       "Allie Reynolds                       1294\n",
       "American Drivers Club #YesonAB25      895\n",
       "SmallCakesDruidHills                  722\n",
       "El Manantial                          655\n",
       "Chris                                 585\n",
       "Name: name, dtype: int64"
      ]
     },
     "execution_count": 51,
     "metadata": {},
     "output_type": "execute_result"
    }
   ],
   "source": [
    "df['name'].value_counts().head(10)"
   ]
  },
  {
   "cell_type": "code",
   "execution_count": null,
   "metadata": {},
   "outputs": [],
   "source": []
  }
 ],
 "metadata": {
  "kernelspec": {
   "display_name": "Python 3",
   "language": "python",
   "name": "python3"
  },
  "language_info": {
   "codemirror_mode": {
    "name": "ipython",
    "version": 3
   },
   "file_extension": ".py",
   "mimetype": "text/x-python",
   "name": "python",
   "nbconvert_exporter": "python",
   "pygments_lexer": "ipython3",
   "version": "3.7.6"
  }
 },
 "nbformat": 4,
 "nbformat_minor": 4
}
