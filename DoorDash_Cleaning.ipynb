{
 "cells": [
  {
   "cell_type": "code",
   "execution_count": 1,
   "metadata": {},
   "outputs": [],
   "source": [
    "import pandas as pd\n",
    "pd.options.display.max_columns=45 #to see all columns\n",
    "import matplotlib.pyplot as plt\n",
    "%matplotlib inline"
   ]
  },
  {
   "cell_type": "code",
   "execution_count": 2,
   "metadata": {},
   "outputs": [],
   "source": [
    "# df = pd.read_csv('DoorDash_data.csv')"
   ]
  },
  {
   "cell_type": "code",
   "execution_count": 3,
   "metadata": {},
   "outputs": [
    {
     "data": {
      "text/plain": [
       "(1421799, 36)"
      ]
     },
     "execution_count": 3,
     "metadata": {},
     "output_type": "execute_result"
    }
   ],
   "source": [
    "# df.shape"
   ]
  },
  {
   "cell_type": "code",
   "execution_count": 4,
   "metadata": {},
   "outputs": [
    {
     "data": {
      "text/plain": [
       "array(['en', 'nl', 'und', 'it', 'es', 'hi', 'et', 'tl', 'fa', 'in', 'ca',\n",
       "       'ht', 'zh', 'de', 'pt', 'tr', 'fr', 'ja', 'pl', 'ru', 'ar', 'cy',\n",
       "       'is', 'th', 'iw', 'sv', 'lv', 'da', 'ko', 'hu', 'fi', 'no', 'lt',\n",
       "       'el', 'sl', 'ro', 'uk', 'cs', 'vi', 'bg', 'km', 'hy', 'eu', 'ta',\n",
       "       'ur', 'pa', 'te', 'mr', 'bn'], dtype=object)"
      ]
     },
     "execution_count": 4,
     "metadata": {},
     "output_type": "execute_result"
    }
   ],
   "source": [
    "# df['language'].unique()"
   ]
  },
  {
   "cell_type": "code",
   "execution_count": 5,
   "metadata": {},
   "outputs": [],
   "source": [
    "# df_en = df.loc[df['language']=='en']"
   ]
  },
  {
   "cell_type": "code",
   "execution_count": 6,
   "metadata": {
    "scrolled": true
   },
   "outputs": [
    {
     "data": {
      "text/plain": [
       "(1349546, 36)"
      ]
     },
     "execution_count": 6,
     "metadata": {},
     "output_type": "execute_result"
    }
   ],
   "source": [
    "# df_en.shape"
   ]
  },
  {
   "cell_type": "code",
   "execution_count": 7,
   "metadata": {
    "scrolled": true
   },
   "outputs": [
    {
     "data": {
      "text/html": [
       "<div>\n",
       "<style scoped>\n",
       "    .dataframe tbody tr th:only-of-type {\n",
       "        vertical-align: middle;\n",
       "    }\n",
       "\n",
       "    .dataframe tbody tr th {\n",
       "        vertical-align: top;\n",
       "    }\n",
       "\n",
       "    .dataframe thead th {\n",
       "        text-align: right;\n",
       "    }\n",
       "</style>\n",
       "<table border=\"1\" class=\"dataframe\">\n",
       "  <thead>\n",
       "    <tr style=\"text-align: right;\">\n",
       "      <th></th>\n",
       "      <th>id</th>\n",
       "      <th>conversation_id</th>\n",
       "      <th>created_at</th>\n",
       "      <th>date</th>\n",
       "      <th>time</th>\n",
       "      <th>timezone</th>\n",
       "      <th>user_id</th>\n",
       "      <th>username</th>\n",
       "      <th>name</th>\n",
       "      <th>place</th>\n",
       "      <th>tweet</th>\n",
       "      <th>language</th>\n",
       "      <th>mentions</th>\n",
       "      <th>urls</th>\n",
       "      <th>photos</th>\n",
       "      <th>replies_count</th>\n",
       "      <th>retweets_count</th>\n",
       "      <th>likes_count</th>\n",
       "      <th>hashtags</th>\n",
       "      <th>cashtags</th>\n",
       "      <th>link</th>\n",
       "      <th>retweet</th>\n",
       "      <th>quote_url</th>\n",
       "      <th>video</th>\n",
       "      <th>thumbnail</th>\n",
       "      <th>near</th>\n",
       "      <th>geo</th>\n",
       "      <th>source</th>\n",
       "      <th>user_rt_id</th>\n",
       "      <th>user_rt</th>\n",
       "      <th>retweet_id</th>\n",
       "      <th>reply_to</th>\n",
       "      <th>retweet_date</th>\n",
       "      <th>translate</th>\n",
       "      <th>trans_src</th>\n",
       "      <th>trans_dest</th>\n",
       "    </tr>\n",
       "  </thead>\n",
       "  <tbody>\n",
       "    <tr>\n",
       "      <th>0</th>\n",
       "      <td>1344432967972761605</td>\n",
       "      <td>1340796614743449602</td>\n",
       "      <td>2020-12-30 18:59:32 EST</td>\n",
       "      <td>2020-12-30</td>\n",
       "      <td>18:59:32</td>\n",
       "      <td>-500</td>\n",
       "      <td>1267918139637071872</td>\n",
       "      <td>ubetnot1</td>\n",
       "      <td>UBetNot</td>\n",
       "      <td>NaN</td>\n",
       "      <td>@FaZeApex @DoorDash That one you got there loo...</td>\n",
       "      <td>en</td>\n",
       "      <td>[]</td>\n",
       "      <td>[]</td>\n",
       "      <td>[]</td>\n",
       "      <td>0</td>\n",
       "      <td>0</td>\n",
       "      <td>0</td>\n",
       "      <td>['starvingagain']</td>\n",
       "      <td>[]</td>\n",
       "      <td>https://twitter.com/UBetNot1/status/1344432967...</td>\n",
       "      <td>False</td>\n",
       "      <td>NaN</td>\n",
       "      <td>0</td>\n",
       "      <td>NaN</td>\n",
       "      <td>NaN</td>\n",
       "      <td>NaN</td>\n",
       "      <td>NaN</td>\n",
       "      <td>NaN</td>\n",
       "      <td>NaN</td>\n",
       "      <td>NaN</td>\n",
       "      <td>[{'screen_name': 'FaZeApex', 'name': 'FaZe Ape...</td>\n",
       "      <td>NaN</td>\n",
       "      <td>NaN</td>\n",
       "      <td>NaN</td>\n",
       "      <td>NaN</td>\n",
       "    </tr>\n",
       "  </tbody>\n",
       "</table>\n",
       "</div>"
      ],
      "text/plain": [
       "                    id      conversation_id               created_at  \\\n",
       "0  1344432967972761605  1340796614743449602  2020-12-30 18:59:32 EST   \n",
       "\n",
       "         date      time  timezone              user_id  username     name  \\\n",
       "0  2020-12-30  18:59:32      -500  1267918139637071872  ubetnot1  UBetNot   \n",
       "\n",
       "  place                                              tweet language mentions  \\\n",
       "0   NaN  @FaZeApex @DoorDash That one you got there loo...       en       []   \n",
       "\n",
       "  urls photos  replies_count  retweets_count  likes_count           hashtags  \\\n",
       "0   []     []              0               0            0  ['starvingagain']   \n",
       "\n",
       "  cashtags                                               link  retweet  \\\n",
       "0       []  https://twitter.com/UBetNot1/status/1344432967...    False   \n",
       "\n",
       "  quote_url  video thumbnail  near  geo  source  user_rt_id  user_rt  \\\n",
       "0       NaN      0       NaN   NaN  NaN     NaN         NaN      NaN   \n",
       "\n",
       "   retweet_id                                           reply_to  \\\n",
       "0         NaN  [{'screen_name': 'FaZeApex', 'name': 'FaZe Ape...   \n",
       "\n",
       "   retweet_date  translate  trans_src  trans_dest  \n",
       "0           NaN        NaN        NaN         NaN  "
      ]
     },
     "execution_count": 7,
     "metadata": {},
     "output_type": "execute_result"
    }
   ],
   "source": [
    "# df_en.head(1)"
   ]
  },
  {
   "cell_type": "code",
   "execution_count": 8,
   "metadata": {},
   "outputs": [
    {
     "data": {
      "text/html": [
       "<div>\n",
       "<style scoped>\n",
       "    .dataframe tbody tr th:only-of-type {\n",
       "        vertical-align: middle;\n",
       "    }\n",
       "\n",
       "    .dataframe tbody tr th {\n",
       "        vertical-align: top;\n",
       "    }\n",
       "\n",
       "    .dataframe thead th {\n",
       "        text-align: right;\n",
       "    }\n",
       "</style>\n",
       "<table border=\"1\" class=\"dataframe\">\n",
       "  <thead>\n",
       "    <tr style=\"text-align: right;\">\n",
       "      <th></th>\n",
       "      <th>id</th>\n",
       "      <th>conversation_id</th>\n",
       "      <th>created_at</th>\n",
       "      <th>date</th>\n",
       "      <th>time</th>\n",
       "      <th>timezone</th>\n",
       "      <th>user_id</th>\n",
       "      <th>username</th>\n",
       "      <th>name</th>\n",
       "      <th>place</th>\n",
       "      <th>tweet</th>\n",
       "      <th>language</th>\n",
       "      <th>mentions</th>\n",
       "      <th>urls</th>\n",
       "      <th>photos</th>\n",
       "      <th>replies_count</th>\n",
       "      <th>retweets_count</th>\n",
       "      <th>likes_count</th>\n",
       "      <th>hashtags</th>\n",
       "      <th>cashtags</th>\n",
       "      <th>link</th>\n",
       "      <th>retweet</th>\n",
       "      <th>quote_url</th>\n",
       "      <th>video</th>\n",
       "      <th>thumbnail</th>\n",
       "      <th>near</th>\n",
       "      <th>geo</th>\n",
       "      <th>source</th>\n",
       "      <th>user_rt_id</th>\n",
       "      <th>user_rt</th>\n",
       "      <th>retweet_id</th>\n",
       "      <th>reply_to</th>\n",
       "      <th>retweet_date</th>\n",
       "      <th>translate</th>\n",
       "      <th>trans_src</th>\n",
       "      <th>trans_dest</th>\n",
       "    </tr>\n",
       "  </thead>\n",
       "  <tbody>\n",
       "    <tr>\n",
       "      <th>1421798</th>\n",
       "      <td>1079890094889279488</td>\n",
       "      <td>1079890094889279488</td>\n",
       "      <td>2018-12-31 19:00:36 EST</td>\n",
       "      <td>2018-12-31</td>\n",
       "      <td>19:00:36</td>\n",
       "      <td>-500</td>\n",
       "      <td>51031411</td>\n",
       "      <td>spiritstraveler</td>\n",
       "      <td>Marcia Frost</td>\n",
       "      <td>NaN</td>\n",
       "      <td>@DoorDash has done everything  to get out of a...</td>\n",
       "      <td>en</td>\n",
       "      <td>[{'screen_name': 'dennysdiner', 'name': 'denny...</td>\n",
       "      <td>[]</td>\n",
       "      <td>[]</td>\n",
       "      <td>0</td>\n",
       "      <td>0</td>\n",
       "      <td>0</td>\n",
       "      <td>['doordash']</td>\n",
       "      <td>[]</td>\n",
       "      <td>https://twitter.com/SpiritsTraveler/status/107...</td>\n",
       "      <td>False</td>\n",
       "      <td>NaN</td>\n",
       "      <td>0</td>\n",
       "      <td>NaN</td>\n",
       "      <td>NaN</td>\n",
       "      <td>NaN</td>\n",
       "      <td>NaN</td>\n",
       "      <td>NaN</td>\n",
       "      <td>NaN</td>\n",
       "      <td>NaN</td>\n",
       "      <td>[]</td>\n",
       "      <td>NaN</td>\n",
       "      <td>NaN</td>\n",
       "      <td>NaN</td>\n",
       "      <td>NaN</td>\n",
       "    </tr>\n",
       "  </tbody>\n",
       "</table>\n",
       "</div>"
      ],
      "text/plain": [
       "                          id      conversation_id               created_at  \\\n",
       "1421798  1079890094889279488  1079890094889279488  2018-12-31 19:00:36 EST   \n",
       "\n",
       "               date      time  timezone   user_id         username  \\\n",
       "1421798  2018-12-31  19:00:36      -500  51031411  spiritstraveler   \n",
       "\n",
       "                 name place  \\\n",
       "1421798  Marcia Frost   NaN   \n",
       "\n",
       "                                                     tweet language  \\\n",
       "1421798  @DoorDash has done everything  to get out of a...       en   \n",
       "\n",
       "                                                  mentions urls photos  \\\n",
       "1421798  [{'screen_name': 'dennysdiner', 'name': 'denny...   []     []   \n",
       "\n",
       "         replies_count  retweets_count  likes_count      hashtags cashtags  \\\n",
       "1421798              0               0            0  ['doordash']       []   \n",
       "\n",
       "                                                      link  retweet quote_url  \\\n",
       "1421798  https://twitter.com/SpiritsTraveler/status/107...    False       NaN   \n",
       "\n",
       "         video thumbnail  near  geo  source  user_rt_id  user_rt  retweet_id  \\\n",
       "1421798      0       NaN   NaN  NaN     NaN         NaN      NaN         NaN   \n",
       "\n",
       "        reply_to  retweet_date  translate  trans_src  trans_dest  \n",
       "1421798       []           NaN        NaN        NaN         NaN  "
      ]
     },
     "execution_count": 8,
     "metadata": {},
     "output_type": "execute_result"
    }
   ],
   "source": [
    "# df_en.tail(1)"
   ]
  },
  {
   "cell_type": "code",
   "execution_count": 9,
   "metadata": {},
   "outputs": [],
   "source": [
    "# df_en.to_csv('DoorDash_from_2019-01-01_to_2021-01-01.csv',index=False)"
   ]
  },
  {
   "cell_type": "code",
   "execution_count": 10,
   "metadata": {},
   "outputs": [
    {
     "name": "stderr",
     "output_type": "stream",
     "text": [
      "/Users/Yasin/opt/anaconda3/lib/python3.7/site-packages/IPython/core/interactiveshell.py:3063: DtypeWarning: Columns (0,1,21) have mixed types.Specify dtype option on import or set low_memory=False.\n",
      "  interactivity=interactivity, compiler=compiler, result=result)\n"
     ]
    }
   ],
   "source": [
    "df = pd.read_csv('DoorDash_from_2019-01-01_to_2021-01-01.csv')"
   ]
  },
  {
   "cell_type": "code",
   "execution_count": 11,
   "metadata": {},
   "outputs": [
    {
     "data": {
      "text/plain": [
       "(1349549, 36)"
      ]
     },
     "execution_count": 11,
     "metadata": {},
     "output_type": "execute_result"
    }
   ],
   "source": [
    "df.shape"
   ]
  },
  {
   "cell_type": "code",
   "execution_count": 12,
   "metadata": {
    "scrolled": true
   },
   "outputs": [
    {
     "name": "stdout",
     "output_type": "stream",
     "text": [
      "<class 'pandas.core.frame.DataFrame'>\n",
      "RangeIndex: 1349549 entries, 0 to 1349548\n",
      "Data columns (total 36 columns):\n",
      " #   Column           Non-Null Count    Dtype  \n",
      "---  ------           --------------    -----  \n",
      " 0   id               1349549 non-null  object \n",
      " 1   conversation_id  1349548 non-null  object \n",
      " 2   created_at       1349548 non-null  object \n",
      " 3   date             1349548 non-null  object \n",
      " 4   time             1349548 non-null  object \n",
      " 5   timezone         1349548 non-null  float64\n",
      " 6   user_id          1349548 non-null  float64\n",
      " 7   username         1349547 non-null  object \n",
      " 8   name             1349443 non-null  object \n",
      " 9   place            7511 non-null     object \n",
      " 10  tweet            1349548 non-null  object \n",
      " 11  language         1349546 non-null  object \n",
      " 12  mentions         1349544 non-null  object \n",
      " 13  urls             1349546 non-null  object \n",
      " 14  photos           1349546 non-null  object \n",
      " 15  replies_count    1349544 non-null  float64\n",
      " 16  retweets_count   1349544 non-null  float64\n",
      " 17  likes_count      1349544 non-null  float64\n",
      " 18  hashtags         1349544 non-null  object \n",
      " 19  cashtags         1349544 non-null  object \n",
      " 20  link             1349544 non-null  object \n",
      " 21  retweet          1349546 non-null  object \n",
      " 22  quote_url        36584 non-null    object \n",
      " 23  video            1349544 non-null  float64\n",
      " 24  thumbnail        160388 non-null   object \n",
      " 25  near             0 non-null        float64\n",
      " 26  geo              0 non-null        float64\n",
      " 27  source           0 non-null        float64\n",
      " 28  user_rt_id       0 non-null        float64\n",
      " 29  user_rt          0 non-null        float64\n",
      " 30  retweet_id       0 non-null        float64\n",
      " 31  reply_to         1349544 non-null  object \n",
      " 32  retweet_date     0 non-null        float64\n",
      " 33  translate        0 non-null        float64\n",
      " 34  trans_src        0 non-null        float64\n",
      " 35  trans_dest       0 non-null        float64\n",
      "dtypes: float64(16), object(20)\n",
      "memory usage: 370.7+ MB\n"
     ]
    }
   ],
   "source": [
    "df.info()"
   ]
  },
  {
   "cell_type": "code",
   "execution_count": 13,
   "metadata": {
    "scrolled": true
   },
   "outputs": [
    {
     "data": {
      "text/html": [
       "<div>\n",
       "<style scoped>\n",
       "    .dataframe tbody tr th:only-of-type {\n",
       "        vertical-align: middle;\n",
       "    }\n",
       "\n",
       "    .dataframe tbody tr th {\n",
       "        vertical-align: top;\n",
       "    }\n",
       "\n",
       "    .dataframe thead th {\n",
       "        text-align: right;\n",
       "    }\n",
       "</style>\n",
       "<table border=\"1\" class=\"dataframe\">\n",
       "  <thead>\n",
       "    <tr style=\"text-align: right;\">\n",
       "      <th></th>\n",
       "      <th>id</th>\n",
       "      <th>conversation_id</th>\n",
       "      <th>created_at</th>\n",
       "      <th>date</th>\n",
       "      <th>time</th>\n",
       "      <th>timezone</th>\n",
       "      <th>user_id</th>\n",
       "      <th>username</th>\n",
       "      <th>name</th>\n",
       "      <th>place</th>\n",
       "      <th>tweet</th>\n",
       "      <th>language</th>\n",
       "      <th>mentions</th>\n",
       "      <th>urls</th>\n",
       "      <th>photos</th>\n",
       "      <th>replies_count</th>\n",
       "      <th>retweets_count</th>\n",
       "      <th>likes_count</th>\n",
       "      <th>hashtags</th>\n",
       "      <th>cashtags</th>\n",
       "      <th>link</th>\n",
       "      <th>retweet</th>\n",
       "      <th>quote_url</th>\n",
       "      <th>video</th>\n",
       "      <th>thumbnail</th>\n",
       "      <th>near</th>\n",
       "      <th>geo</th>\n",
       "      <th>source</th>\n",
       "      <th>user_rt_id</th>\n",
       "      <th>user_rt</th>\n",
       "      <th>retweet_id</th>\n",
       "      <th>reply_to</th>\n",
       "      <th>retweet_date</th>\n",
       "      <th>translate</th>\n",
       "      <th>trans_src</th>\n",
       "      <th>trans_dest</th>\n",
       "    </tr>\n",
       "  </thead>\n",
       "  <tbody>\n",
       "    <tr>\n",
       "      <th>0</th>\n",
       "      <td>1344432967972761605</td>\n",
       "      <td>1340796614743449602</td>\n",
       "      <td>2020-12-30 18:59:32 EST</td>\n",
       "      <td>2020-12-30</td>\n",
       "      <td>18:59:32</td>\n",
       "      <td>-500.0</td>\n",
       "      <td>1.267918e+18</td>\n",
       "      <td>ubetnot1</td>\n",
       "      <td>UBetNot</td>\n",
       "      <td>NaN</td>\n",
       "      <td>@FaZeApex @DoorDash That one you got there loo...</td>\n",
       "      <td>en</td>\n",
       "      <td>[]</td>\n",
       "      <td>[]</td>\n",
       "      <td>[]</td>\n",
       "      <td>0.0</td>\n",
       "      <td>0.0</td>\n",
       "      <td>0.0</td>\n",
       "      <td>['starvingagain']</td>\n",
       "      <td>[]</td>\n",
       "      <td>https://twitter.com/UBetNot1/status/1344432967...</td>\n",
       "      <td>False</td>\n",
       "      <td>NaN</td>\n",
       "      <td>0.0</td>\n",
       "      <td>NaN</td>\n",
       "      <td>NaN</td>\n",
       "      <td>NaN</td>\n",
       "      <td>NaN</td>\n",
       "      <td>NaN</td>\n",
       "      <td>NaN</td>\n",
       "      <td>NaN</td>\n",
       "      <td>[{'screen_name': 'FaZeApex', 'name': 'FaZe Ape...</td>\n",
       "      <td>NaN</td>\n",
       "      <td>NaN</td>\n",
       "      <td>NaN</td>\n",
       "      <td>NaN</td>\n",
       "    </tr>\n",
       "    <tr>\n",
       "      <th>1</th>\n",
       "      <td>1344432801202913280</td>\n",
       "      <td>1344204484604391426</td>\n",
       "      <td>2020-12-30 18:58:52 EST</td>\n",
       "      <td>2020-12-30</td>\n",
       "      <td>18:58:52</td>\n",
       "      <td>-500.0</td>\n",
       "      <td>9.425690e+17</td>\n",
       "      <td>chungdaveeed</td>\n",
       "      <td>David</td>\n",
       "      <td>NaN</td>\n",
       "      <td>@doordash_ i listen while studying</td>\n",
       "      <td>en</td>\n",
       "      <td>[]</td>\n",
       "      <td>[]</td>\n",
       "      <td>[]</td>\n",
       "      <td>0.0</td>\n",
       "      <td>0.0</td>\n",
       "      <td>1.0</td>\n",
       "      <td>[]</td>\n",
       "      <td>[]</td>\n",
       "      <td>https://twitter.com/chungdaveeed/status/134443...</td>\n",
       "      <td>False</td>\n",
       "      <td>NaN</td>\n",
       "      <td>0.0</td>\n",
       "      <td>NaN</td>\n",
       "      <td>NaN</td>\n",
       "      <td>NaN</td>\n",
       "      <td>NaN</td>\n",
       "      <td>NaN</td>\n",
       "      <td>NaN</td>\n",
       "      <td>NaN</td>\n",
       "      <td>[{'screen_name': 'doordash_', 'name': 'dash', ...</td>\n",
       "      <td>NaN</td>\n",
       "      <td>NaN</td>\n",
       "      <td>NaN</td>\n",
       "      <td>NaN</td>\n",
       "    </tr>\n",
       "    <tr>\n",
       "      <th>2</th>\n",
       "      <td>1344432754222620673</td>\n",
       "      <td>1344432754222620673</td>\n",
       "      <td>2020-12-30 18:58:41 EST</td>\n",
       "      <td>2020-12-30</td>\n",
       "      <td>18:58:41</td>\n",
       "      <td>-500.0</td>\n",
       "      <td>6.906392e+07</td>\n",
       "      <td>dida34</td>\n",
       "      <td>Dida</td>\n",
       "      <td>NaN</td>\n",
       "      <td>Open until 10pm 2115 S State St  https://t.co/...</td>\n",
       "      <td>en</td>\n",
       "      <td>[{'screen_name': 'doordash', 'name': 'doordash...</td>\n",
       "      <td>['http://Bureaybarandrestaurant.com', 'https:/...</td>\n",
       "      <td>[]</td>\n",
       "      <td>0.0</td>\n",
       "      <td>0.0</td>\n",
       "      <td>0.0</td>\n",
       "      <td>[]</td>\n",
       "      <td>[]</td>\n",
       "      <td>https://twitter.com/dida34/status/134443275422...</td>\n",
       "      <td>False</td>\n",
       "      <td>NaN</td>\n",
       "      <td>0.0</td>\n",
       "      <td>NaN</td>\n",
       "      <td>NaN</td>\n",
       "      <td>NaN</td>\n",
       "      <td>NaN</td>\n",
       "      <td>NaN</td>\n",
       "      <td>NaN</td>\n",
       "      <td>NaN</td>\n",
       "      <td>[]</td>\n",
       "      <td>NaN</td>\n",
       "      <td>NaN</td>\n",
       "      <td>NaN</td>\n",
       "      <td>NaN</td>\n",
       "    </tr>\n",
       "    <tr>\n",
       "      <th>3</th>\n",
       "      <td>1344432725080604683</td>\n",
       "      <td>1344432725080604683</td>\n",
       "      <td>2020-12-30 18:58:34 EST</td>\n",
       "      <td>2020-12-30</td>\n",
       "      <td>18:58:34</td>\n",
       "      <td>-500.0</td>\n",
       "      <td>8.201797e+08</td>\n",
       "      <td>mikeyaeger38</td>\n",
       "      <td>Lil' Bean Head</td>\n",
       "      <td>NaN</td>\n",
       "      <td>Doordash time.</td>\n",
       "      <td>en</td>\n",
       "      <td>[]</td>\n",
       "      <td>[]</td>\n",
       "      <td>[]</td>\n",
       "      <td>0.0</td>\n",
       "      <td>0.0</td>\n",
       "      <td>0.0</td>\n",
       "      <td>[]</td>\n",
       "      <td>[]</td>\n",
       "      <td>https://twitter.com/mikeyaeger38/status/134443...</td>\n",
       "      <td>False</td>\n",
       "      <td>NaN</td>\n",
       "      <td>0.0</td>\n",
       "      <td>NaN</td>\n",
       "      <td>NaN</td>\n",
       "      <td>NaN</td>\n",
       "      <td>NaN</td>\n",
       "      <td>NaN</td>\n",
       "      <td>NaN</td>\n",
       "      <td>NaN</td>\n",
       "      <td>[]</td>\n",
       "      <td>NaN</td>\n",
       "      <td>NaN</td>\n",
       "      <td>NaN</td>\n",
       "      <td>NaN</td>\n",
       "    </tr>\n",
       "    <tr>\n",
       "      <th>4</th>\n",
       "      <td>1344432692838817792</td>\n",
       "      <td>1344427103459176461</td>\n",
       "      <td>2020-12-30 18:58:26 EST</td>\n",
       "      <td>2020-12-30</td>\n",
       "      <td>18:58:26</td>\n",
       "      <td>-500.0</td>\n",
       "      <td>4.317158e+09</td>\n",
       "      <td>lebronsleague</td>\n",
       "      <td>5thringonthewayyy🏆🏆🏆🏆🏆</td>\n",
       "      <td>NaN</td>\n",
       "      <td>@damemorris95 Haha i feel u😂. Always got DoorD...</td>\n",
       "      <td>en</td>\n",
       "      <td>[]</td>\n",
       "      <td>[]</td>\n",
       "      <td>[]</td>\n",
       "      <td>1.0</td>\n",
       "      <td>0.0</td>\n",
       "      <td>0.0</td>\n",
       "      <td>[]</td>\n",
       "      <td>[]</td>\n",
       "      <td>https://twitter.com/lebronsleague/status/13444...</td>\n",
       "      <td>False</td>\n",
       "      <td>NaN</td>\n",
       "      <td>0.0</td>\n",
       "      <td>NaN</td>\n",
       "      <td>NaN</td>\n",
       "      <td>NaN</td>\n",
       "      <td>NaN</td>\n",
       "      <td>NaN</td>\n",
       "      <td>NaN</td>\n",
       "      <td>NaN</td>\n",
       "      <td>[{'screen_name': 'damemorris95', 'name': 'I WA...</td>\n",
       "      <td>NaN</td>\n",
       "      <td>NaN</td>\n",
       "      <td>NaN</td>\n",
       "      <td>NaN</td>\n",
       "    </tr>\n",
       "  </tbody>\n",
       "</table>\n",
       "</div>"
      ],
      "text/plain": [
       "                    id      conversation_id               created_at  \\\n",
       "0  1344432967972761605  1340796614743449602  2020-12-30 18:59:32 EST   \n",
       "1  1344432801202913280  1344204484604391426  2020-12-30 18:58:52 EST   \n",
       "2  1344432754222620673  1344432754222620673  2020-12-30 18:58:41 EST   \n",
       "3  1344432725080604683  1344432725080604683  2020-12-30 18:58:34 EST   \n",
       "4  1344432692838817792  1344427103459176461  2020-12-30 18:58:26 EST   \n",
       "\n",
       "         date      time  timezone       user_id       username  \\\n",
       "0  2020-12-30  18:59:32    -500.0  1.267918e+18       ubetnot1   \n",
       "1  2020-12-30  18:58:52    -500.0  9.425690e+17   chungdaveeed   \n",
       "2  2020-12-30  18:58:41    -500.0  6.906392e+07         dida34   \n",
       "3  2020-12-30  18:58:34    -500.0  8.201797e+08   mikeyaeger38   \n",
       "4  2020-12-30  18:58:26    -500.0  4.317158e+09  lebronsleague   \n",
       "\n",
       "                     name place  \\\n",
       "0                 UBetNot   NaN   \n",
       "1                   David   NaN   \n",
       "2                    Dida   NaN   \n",
       "3          Lil' Bean Head   NaN   \n",
       "4  5thringonthewayyy🏆🏆🏆🏆🏆   NaN   \n",
       "\n",
       "                                               tweet language  \\\n",
       "0  @FaZeApex @DoorDash That one you got there loo...       en   \n",
       "1                 @doordash_ i listen while studying       en   \n",
       "2  Open until 10pm 2115 S State St  https://t.co/...       en   \n",
       "3                                     Doordash time.       en   \n",
       "4  @damemorris95 Haha i feel u😂. Always got DoorD...       en   \n",
       "\n",
       "                                            mentions  \\\n",
       "0                                                 []   \n",
       "1                                                 []   \n",
       "2  [{'screen_name': 'doordash', 'name': 'doordash...   \n",
       "3                                                 []   \n",
       "4                                                 []   \n",
       "\n",
       "                                                urls photos  replies_count  \\\n",
       "0                                                 []     []            0.0   \n",
       "1                                                 []     []            0.0   \n",
       "2  ['http://Bureaybarandrestaurant.com', 'https:/...     []            0.0   \n",
       "3                                                 []     []            0.0   \n",
       "4                                                 []     []            1.0   \n",
       "\n",
       "   retweets_count  likes_count           hashtags cashtags  \\\n",
       "0             0.0          0.0  ['starvingagain']       []   \n",
       "1             0.0          1.0                 []       []   \n",
       "2             0.0          0.0                 []       []   \n",
       "3             0.0          0.0                 []       []   \n",
       "4             0.0          0.0                 []       []   \n",
       "\n",
       "                                                link retweet quote_url  video  \\\n",
       "0  https://twitter.com/UBetNot1/status/1344432967...   False       NaN    0.0   \n",
       "1  https://twitter.com/chungdaveeed/status/134443...   False       NaN    0.0   \n",
       "2  https://twitter.com/dida34/status/134443275422...   False       NaN    0.0   \n",
       "3  https://twitter.com/mikeyaeger38/status/134443...   False       NaN    0.0   \n",
       "4  https://twitter.com/lebronsleague/status/13444...   False       NaN    0.0   \n",
       "\n",
       "  thumbnail  near  geo  source  user_rt_id  user_rt  retweet_id  \\\n",
       "0       NaN   NaN  NaN     NaN         NaN      NaN         NaN   \n",
       "1       NaN   NaN  NaN     NaN         NaN      NaN         NaN   \n",
       "2       NaN   NaN  NaN     NaN         NaN      NaN         NaN   \n",
       "3       NaN   NaN  NaN     NaN         NaN      NaN         NaN   \n",
       "4       NaN   NaN  NaN     NaN         NaN      NaN         NaN   \n",
       "\n",
       "                                            reply_to  retweet_date  translate  \\\n",
       "0  [{'screen_name': 'FaZeApex', 'name': 'FaZe Ape...           NaN        NaN   \n",
       "1  [{'screen_name': 'doordash_', 'name': 'dash', ...           NaN        NaN   \n",
       "2                                                 []           NaN        NaN   \n",
       "3                                                 []           NaN        NaN   \n",
       "4  [{'screen_name': 'damemorris95', 'name': 'I WA...           NaN        NaN   \n",
       "\n",
       "   trans_src  trans_dest  \n",
       "0        NaN         NaN  \n",
       "1        NaN         NaN  \n",
       "2        NaN         NaN  \n",
       "3        NaN         NaN  \n",
       "4        NaN         NaN  "
      ]
     },
     "execution_count": 13,
     "metadata": {},
     "output_type": "execute_result"
    }
   ],
   "source": [
    "df.head()"
   ]
  },
  {
   "cell_type": "code",
   "execution_count": 21,
   "metadata": {},
   "outputs": [
    {
     "data": {
      "text/plain": [
       "'2020-12-30'"
      ]
     },
     "execution_count": 21,
     "metadata": {},
     "output_type": "execute_result"
    }
   ],
   "source": [
    "df['date'][0]"
   ]
  },
  {
   "cell_type": "code",
   "execution_count": 53,
   "metadata": {},
   "outputs": [],
   "source": [
    "df['date_dt'] = pd.to_datetime(df['date'], errors='coerce', format='%Y-%m-%d')"
   ]
  },
  {
   "cell_type": "code",
   "execution_count": 62,
   "metadata": {},
   "outputs": [],
   "source": [
    "df = df.drop(df[df['date']=='NaT'].index)"
   ]
  },
  {
   "cell_type": "code",
   "execution_count": 63,
   "metadata": {},
   "outputs": [],
   "source": [
    "df['day_of_week'] = df['date_dt'].dt.day_name()"
   ]
  },
  {
   "cell_type": "code",
   "execution_count": 64,
   "metadata": {},
   "outputs": [],
   "source": [
    "df['year'] = df['date_dt'].dt.year"
   ]
  },
  {
   "cell_type": "code",
   "execution_count": 65,
   "metadata": {},
   "outputs": [],
   "source": [
    "import matplotlib.pyplot as plt\n",
    "%matplotlib inline"
   ]
  },
  {
   "cell_type": "code",
   "execution_count": 66,
   "metadata": {
    "scrolled": true
   },
   "outputs": [
    {
     "data": {
      "text/plain": [
       "2020.0    856729\n",
       "2019.0    492511\n",
       "2018.0       306\n",
       "Name: year, dtype: int64"
      ]
     },
     "execution_count": 66,
     "metadata": {},
     "output_type": "execute_result"
    }
   ],
   "source": [
    "df['year'].value_counts()"
   ]
  },
  {
   "cell_type": "code",
   "execution_count": 67,
   "metadata": {},
   "outputs": [],
   "source": [
    "import seaborn as sns"
   ]
  },
  {
   "cell_type": "code",
   "execution_count": 68,
   "metadata": {},
   "outputs": [
    {
     "data": {
      "image/png": "[encoded data removed]",
      "text/plain": [
       "<Figure size 720x576 with 1 Axes>"
      ]
     },
     "metadata": {
      "needs_background": "light"
     },
     "output_type": "display_data"
    }
   ],
   "source": [
    "plt.figure(figsize=(10,8))\n",
    "ax = sns.countplot(x='year', data=df)"
   ]
  },
  {
   "cell_type": "code",
   "execution_count": 69,
   "metadata": {},
   "outputs": [
    {
     "data": {
      "image/png": "[encoded data removed]",
      "text/plain": [
       "<Figure size 720x576 with 1 Axes>"
      ]
     },
     "metadata": {
      "needs_background": "light"
     },
     "output_type": "display_data"
    }
   ],
   "source": [
    "plt.figure(figsize=(10,8))\n",
    "ax = sns.countplot(x='day_of_week', data=df)"
   ]
  },
  {
   "cell_type": "code",
   "execution_count": 70,
   "metadata": {
    "scrolled": true
   },
   "outputs": [
    {
     "data": {
      "text/plain": [
       "731"
      ]
     },
     "execution_count": 70,
     "metadata": {},
     "output_type": "execute_result"
    }
   ],
   "source": [
    "df['date'].nunique()"
   ]
  },
  {
   "cell_type": "code",
   "execution_count": 74,
   "metadata": {},
   "outputs": [],
   "source": [
    "df['time_dt']=pd.to_datetime(df['time'])"
   ]
  },
  {
   "cell_type": "code",
   "execution_count": 75,
   "metadata": {},
   "outputs": [],
   "source": [
    "df['hour'] = df['time_dt'].dt.hour"
   ]
  },
  {
   "cell_type": "code",
   "execution_count": 76,
   "metadata": {},
   "outputs": [
    {
     "data": {
      "text/plain": [
       "24"
      ]
     },
     "execution_count": 76,
     "metadata": {},
     "output_type": "execute_result"
    }
   ],
   "source": [
    "df['hour'].nunique()"
   ]
  },
  {
   "cell_type": "code",
   "execution_count": 77,
   "metadata": {},
   "outputs": [
    {
     "data": {
      "image/png": "[encoded data removed]",
      "text/plain": [
       "<Figure size 720x576 with 1 Axes>"
      ]
     },
     "metadata": {
      "needs_background": "light"
     },
     "output_type": "display_data"
    }
   ],
   "source": [
    "plt.figure(figsize=(10,8))\n",
    "ax = sns.countplot(x='hour', data=df)"
   ]
  },
  {
   "cell_type": "code",
   "execution_count": 78,
   "metadata": {},
   "outputs": [
    {
     "data": {
      "image/png": "[encoded data removed]",
      "text/plain": [
       "<Figure size 2160x720 with 1 Axes>"
      ]
     },
     "metadata": {
      "needs_background": "light"
     },
     "output_type": "display_data"
    }
   ],
   "source": [
    "plt.figure(figsize=(30,10))\n",
    "ax = sns.countplot(x='hour', hue=\"day_of_week\", data=df)"
   ]
  },
  {
   "cell_type": "code",
   "execution_count": 79,
   "metadata": {},
   "outputs": [
    {
     "data": {
      "image/png": "[encoded data removed]",
      "text/plain": [
       "<Figure size 2160x720 with 1 Axes>"
      ]
     },
     "metadata": {
      "needs_background": "light"
     },
     "output_type": "display_data"
    }
   ],
   "source": [
    "plt.figure(figsize=(30,10))\n",
    "ax = sns.countplot(x='day_of_week', hue=\"hour\", data=df)"
   ]
  },
  {
   "cell_type": "code",
   "execution_count": 80,
   "metadata": {},
   "outputs": [
    {
     "data": {
      "text/plain": [
       "doordash_help      65098\n",
       "doordash            9468\n",
       "bet                 4620\n",
       "jcraiderman         4296\n",
       "solg2004            2630\n",
       "rideshareaz         2516\n",
       "freelancedallas     2274\n",
       "b3eqwxnjptmbbnw     1988\n",
       "sahil_feda          1641\n",
       "afreaknamedali      1442\n",
       "Name: username, dtype: int64"
      ]
     },
     "execution_count": 80,
     "metadata": {},
     "output_type": "execute_result"
    }
   ],
   "source": [
    "df['username'].value_counts().head(10)"
   ]
  },
  {
   "cell_type": "code",
   "execution_count": 81,
   "metadata": {},
   "outputs": [
    {
     "data": {
      "text/plain": [
       "DoorDash Help           65101\n",
       "DoorDash                 9472\n",
       "J                        4833\n",
       "BET                      4623\n",
       "AKA Carl niffirg         2630\n",
       "Rideshare Arizona        2516\n",
       "Dallas Freelance Gig     2274\n",
       ".                        2181\n",
       "ć                        1988\n",
       "Sahil Feda               1754\n",
       "Name: name, dtype: int64"
      ]
     },
     "execution_count": 81,
     "metadata": {},
     "output_type": "execute_result"
    }
   ],
   "source": [
    "df['name'].value_counts().head(10)"
   ]
  }
 ],
 "metadata": {
  "kernelspec": {
   "display_name": "Python 3",
   "language": "python",
   "name": "python3"
  },
  "language_info": {
   "codemirror_mode": {
    "name": "ipython",
    "version": 3
   },
   "file_extension": ".py",
   "mimetype": "text/x-python",
   "name": "python",
   "nbconvert_exporter": "python",
   "pygments_lexer": "ipython3",
   "version": "3.7.6"
  }
 },
 "nbformat": 4,
 "nbformat_minor": 4
}
